{
 "cells": [
  {
   "cell_type": "markdown",
   "metadata": {},
   "source": [
    "# Calculating Fall Velocity"
   ]
  },
  {
   "cell_type": "markdown",
   "metadata": {},
   "source": [
    ">This program computes the settling velocity of a particle with the formulation of Dietrich (1982).\n",
    ">\n",
    ">For a more detailed description of the theoretical formulation of the problem and of the code, see Chapter 2 “Characterization of Sediment and Grain Size Distributions” [[download PPT]](http://hydrolab.illinois.edu/people/parkerg/_private/e-bookPowerPoint/RTe-bookCh2SedimentGSD.ppt) of Gary Parker's e-book.\n",
    "><br>\n",
    ">\n",
    ">The input parameters are:\n",
    ">\n",
    ">* `particle__diameter`: Sediment particle size, $D$ (mm)\n",
    ">* `fluid__kinematic_viscosity`: Kinematic viscosity of the liquid, $\\nu$ (m$^2$/s)\n",
    ">* `gravitational_acceleration`: Acceleration due to gravity, $g$ (m/s$^2$)\n",
    ">* `fluid__density`: Density of water, $\\rho_w$ (Kg/m$^3$)\n",
    ">* `particle__density`: Density of sediment, $\\rho_s$ (Kg/m$^3$)\n",
    ">* `output_filename`: Path of the output file\n",
    ">\n",
    "><br>\n",
    ">The output parameters are:\n",
    ">\n",
    ">* `settling_velocity`: Particle settling velocity, $v_s$ (m/s)\n",
    ">* `Reynolds_number`: Particle Reynolds number, $R_e$\n",
    ">* `dimensionless_fall_velocity`: Dimensionless fall velocity of the particle, $R_f$\n",
    ">\n",
    "><br>\n",
    ">The program solves the equations:\n",
    ">\n",
    ">$v_s = R_f \\sqrt{RgD}$\n",
    ">\n",
    ">$R_e = \\frac{D\\sqrt{RgD}}{\\nu}$\n",
    ">\n",
    ">$R_f = \\frac{v_s}{\\sqrt{RgD}}$\n",
    ">\n",
    ">### Notes:\n",
    ">\n",
    ">* These calculations are only valid for Reynold's numbers less than or equal to $2.5 x {10}^6$. If $R_e$ is greater than this upper limit, the code warns and exits.\n",
    ">\n",
    ">### References:\n",
    ">\n",
    ">Dietrich, E. W., 1982, Settling velocity of natural particles, Water Resources Research, 18 (6), 1626-1982."
   ]
  },
  {
   "cell_type": "markdown",
   "metadata": {
    "collapsed": true
   },
   "source": [
    "To run this program, first import the Fall Velocity code and initiate it:"
   ]
  },
  {
   "cell_type": "code",
   "execution_count": 1,
   "metadata": {
    "collapsed": true
   },
   "outputs": [],
   "source": [
    "from STR.STR_scripts.s_FallVelocity import FallVelocity_solver\n",
    "\n",
    "f = FallVelocity_solver()"
   ]
  },
  {
   "cell_type": "markdown",
   "metadata": {},
   "source": [
    "The code is initialized with default values for the input parameters. To access these variables, we can type:"
   ]
  },
  {
   "cell_type": "code",
   "execution_count": 2,
   "metadata": {},
   "outputs": [
    {
     "name": "stdout",
     "output_type": "stream",
     "text": [
      "Grain size: [ 0.1] mm\n",
      "Kinematic viscosity: [  1.00000000e-06] m^2/s\n",
      "Graviatational acceleration: [ 9.81] m/s^2\n",
      "Density of fluid: [ 1000.] Kg/m^3\n",
      "Density of sediment: [ 2650.] Kg/m^3\n"
     ]
    }
   ],
   "source": [
    "print 'Grain size:', f.grain_size, 'mm'\n",
    "print 'Kinematic viscosity:', f.kinematic_viscosity, 'm^2/s'\n",
    "print 'Graviatational acceleration:', f.gravitational_acceleration, 'm/s^2'\n",
    "print 'Density of fluid:', f.density_of_fluid, 'Kg/m^3'\n",
    "print 'Density of sediment:', f.density_of_particle, 'Kg/m^3'"
   ]
  },
  {
   "cell_type": "markdown",
   "metadata": {},
   "source": [
    "To run the program, we type:"
   ]
  },
  {
   "cell_type": "code",
   "execution_count": 3,
   "metadata": {
    "collapsed": true
   },
   "outputs": [],
   "source": [
    "f.run()"
   ]
  },
  {
   "cell_type": "markdown",
   "metadata": {},
   "source": [
    "This command just solves the equations. It doesn't produce any visible output on the screen and doesn't save a file. To access the output, we can call the individual variables:"
   ]
  },
  {
   "cell_type": "code",
   "execution_count": 4,
   "metadata": {},
   "outputs": [
    {
     "name": "stdout",
     "output_type": "stream",
     "text": [
      "Settling velocity: [ 0.0074847] m/s\n",
      "Reynolds number of the particle: [ 4.02324496]\n",
      "Dimensionless fall velocity: [ 0.18603633]\n"
     ]
    }
   ],
   "source": [
    "print 'Settling velocity:', f.settling_velocity, 'm/s'\n",
    "print 'Reynolds number of the particle:', f.Reynolds_number\n",
    "print 'Dimensionless fall velocity:', f.dimensionless_fall_velocity"
   ]
  },
  {
   "cell_type": "markdown",
   "metadata": {},
   "source": [
    "We can change the input parameters by assigning new values to their variable names:"
   ]
  },
  {
   "cell_type": "code",
   "execution_count": 5,
   "metadata": {},
   "outputs": [
    {
     "name": "stdout",
     "output_type": "stream",
     "text": [
      "Grain size: [ 0.2] mm\n"
     ]
    }
   ],
   "source": [
    "f.grain_size = 0.2\n",
    "print 'Grain size:', f.grain_size, 'mm'"
   ]
  },
  {
   "cell_type": "markdown",
   "metadata": {},
   "source": [
    "Run the program again and check the output values for this new grain size:"
   ]
  },
  {
   "cell_type": "code",
   "execution_count": 6,
   "metadata": {},
   "outputs": [
    {
     "name": "stdout",
     "output_type": "stream",
     "text": [
      "Settling velocity: [ 0.02215653] m/s\n",
      "Reynolds number of the particle: [ 11.37945517]\n",
      "Dimensionless fall velocity: [ 0.38941291]\n"
     ]
    }
   ],
   "source": [
    "f.run()\n",
    "\n",
    "print 'Settling velocity:', f.settling_velocity, 'm/s'\n",
    "print 'Reynolds number of the particle:', f.Reynolds_number\n",
    "print 'Dimensionless fall velocity:', f.dimensionless_fall_velocity"
   ]
  },
  {
   "cell_type": "markdown",
   "metadata": {},
   "source": [
    "We can save the most recent input and output values to a YAML file by calling the `finalize` function. The path to the output file is set in the input file:"
   ]
  },
  {
   "cell_type": "code",
   "execution_count": 7,
   "metadata": {
    "collapsed": true
   },
   "outputs": [],
   "source": [
    "f.finalize()"
   ]
  },
  {
   "cell_type": "raw",
   "metadata": {},
   "source": []
  }
 ],
 "metadata": {
  "anaconda-cloud": {},
  "kernelspec": {
   "display_name": "Python [default]",
   "language": "python",
   "name": "python2"
  },
  "language_info": {
   "codemirror_mode": {
    "name": "ipython",
    "version": 2
   },
   "file_extension": ".py",
   "mimetype": "text/x-python",
   "name": "python",
   "nbconvert_exporter": "python",
   "pygments_lexer": "ipython2",
   "version": "2.7.13"
  }
 },
 "nbformat": 4,
 "nbformat_minor": 1
}
